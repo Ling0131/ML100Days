{
 "cells": [
  {
   "cell_type": "markdown",
   "metadata": {
    "id": "b0CqLhJh2s7b"
   },
   "source": [
    "作業⽬標：\n",
    "• 了解效能優化⽅法\n",
    "作業重點：\n",
    "• 優化有很多⾯相可以切入，⽬前可以先以投影片⽅法為主\n",
    "\n"
   ]
  },
  {
   "cell_type": "markdown",
   "metadata": {
    "id": "xiYCa02a2vRm"
   },
   "source": [
    "題目 : \n",
    "1. 在速度較慢的時候，可以先從哪邊開始檢查？\n",
    "2. 資料過⼤時應採取什麼⽅式讓記憶體占⽤量下降？"
   ]
  },
  {
   "cell_type": "raw",
   "metadata": {},
   "source": [
    "# 1. 在速度較慢的時候，可以先從哪邊開始檢查？\n",
    "先檢查有沒有使⽤到⾃訂義的函數，如果有可以查詢pandas中是否有\n",
    "⽀援相關演算法，如果以上都沒辦法改善，那可以從資料讀取⽅式下⼿，將要讀取的資料改成pkl檔"
   ]
  },
  {
   "cell_type": "raw",
   "metadata": {},
   "source": [
    "# 2. 資料過⼤時應採取什麼⽅式讓記憶體占⽤量下降？\n",
    "欄位的型態降級有助於減少記憶體佔用空間，需要存太多元素在一個數字中"
   ]
  },
  {
   "cell_type": "code",
   "execution_count": null,
   "metadata": {},
   "outputs": [],
   "source": []
  },
  {
   "cell_type": "code",
   "execution_count": null,
   "metadata": {},
   "outputs": [],
   "source": []
  }
 ],
 "metadata": {
  "colab": {
   "authorship_tag": "ABX9TyMYL5XgdElX7UhbkU71zGse",
   "collapsed_sections": [],
   "name": "作業題目.ipynb",
   "provenance": []
  },
  "kernelspec": {
   "display_name": "Python 3",
   "language": "python",
   "name": "python3"
  },
  "language_info": {
   "codemirror_mode": {
    "name": "ipython",
    "version": 3
   },
   "file_extension": ".py",
   "mimetype": "text/x-python",
   "name": "python",
   "nbconvert_exporter": "python",
   "pygments_lexer": "ipython3",
   "version": "3.8.3"
  }
 },
 "nbformat": 4,
 "nbformat_minor": 1
}
